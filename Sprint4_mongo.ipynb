{
 "cells": [
  {
   "cell_type": "code",
   "execution_count": 6,
   "metadata": {},
   "outputs": [
    {
     "name": "stdout",
     "output_type": "stream",
     "text": [
      "{'_id': ObjectId('5e57891d334a951beca692c9'), 'Chips;Quantity;Price;Cooldrinks;Quantity;Price;Chocolates;Quantity;Price;Pies;Quantity;Price;Fruit;Quantity;Price;Cupcakes;Quantity;Price;Veggies;Quantity;Price;Sweets;Veg;Pizza': 'Stylos;40;R55'}\n",
      "{'_id': ObjectId('5e57891d334a951beca692ca'), 'Chips;Quantity;Price;Cooldrinks;Quantity;Price;Chocolates;Quantity;Price;Pies;Quantity;Price;Fruit;Quantity;Price;Cupcakes;Quantity;Price;Veggies;Quantity;Price;Sweets;Veg;Pizza': 'Spokies;;;Bibo;;;Milkit;;;;;;;;;;;;;;;;;'}\n",
      "{'_id': ObjectId('5e57891d334a951beca692cb'), 'Chips;Quantity;Price;Cooldrinks;Quantity;Price;Chocolates;Quantity;Price;Pies;Quantity;Price;Fruit;Quantity;Price;Cupcakes;Quantity;Price;Veggies;Quantity;Price;Sweets;Veg;Pizza': 'snapers;;;powerade;;;kitkat;;;;;;;;;;;;;;;;;'}\n",
      "{'_id': ObjectId('5e57891d334a951beca692cc'), 'Chips;Quantity;Price;Cooldrinks;Quantity;Price;Chocolates;Quantity;Price;Pies;Quantity;Price;Fruit;Quantity;Price;Cupcakes;Quantity;Price;Veggies;Quantity;Price;Sweets;Veg;Pizza': 'Simba;50;R65'}\n",
      "{'_id': ObjectId('5e57891d334a951beca692cd'), 'Chips;Quantity;Price;Cooldrinks;Quantity;Price;Chocolates;Quantity;Price;Pies;Quantity;Price;Fruit;Quantity;Price;Cupcakes;Quantity;Price;Veggies;Quantity;Price;Sweets;Veg;Pizza': 'Nik-naks;65;R80'}\n",
      "{'_id': ObjectId('5e57891d334a951beca692ce'), 'Chips;Quantity;Price;Cooldrinks;Quantity;Price;Chocolates;Quantity;Price;Pies;Quantity;Price;Fruit;Quantity;Price;Cupcakes;Quantity;Price;Veggies;Quantity;Price;Sweets;Veg;Pizza': 'Lays;30;R40'}\n",
      "{'_id': ObjectId('5e57891d334a951beca692cf'), 'Chips;Quantity;Price;Cooldrinks;Quantity;Price;Chocolates;Quantity;Price;Pies;Quantity;Price;Fruit;Quantity;Price;Cupcakes;Quantity;Price;Veggies;Quantity;Price;Sweets;Veg;Pizza': 'Flyers;;;Champs;;;Aero;;;;;;;;;;;;;;;;;'}\n",
      "{'_id': ObjectId('5e57891d334a951beca692d0'), 'Chips;Quantity;Price;Cooldrinks;Quantity;Price;Chocolates;Quantity;Price;Pies;Quantity;Price;Fruit;Quantity;Price;Cupcakes;Quantity;Price;Veggies;Quantity;Price;Sweets;Veg;Pizza': 'Flyers;;;Champs;;;Aero;;;;;;;;;;;;;;;;;'}\n",
      "{'_id': ObjectId('5e57891d334a951beca692d1'), 'Chips;Quantity;Price;Cooldrinks;Quantity;Price;Chocolates;Quantity;Price;Pies;Quantity;Price;Fruit;Quantity;Price;Cupcakes;Quantity;Price;Veggies;Quantity;Price;Sweets;Veg;Pizza': 'Dorritos;35;R50'}\n",
      "{'_id': ObjectId('5e57891d334a951beca692d2'), 'Chips;Quantity;Price;Cooldrinks;Quantity;Price;Chocolates;Quantity;Price;Pies;Quantity;Price;Fruit;Quantity;Price;Cupcakes;Quantity;Price;Veggies;Quantity;Price;Sweets;Veg;Pizza': 'cracksnack;;;monster;;;Milk;;;;;;;;;;;;;;;;;'}\n",
      "{'_id': ObjectId('5e57891d334a951beca692d3'), 'Chips;Quantity;Price;Cooldrinks;Quantity;Price;Chocolates;Quantity;Price;Pies;Quantity;Price;Fruit;Quantity;Price;Cupcakes;Quantity;Price;Veggies;Quantity;Price;Sweets;Veg;Pizza': 'Conachos;;;Score;;;snackers;;;;;;;;;;;;;;;;;'}\n",
      "{'_id': ObjectId('5e57891d334a951beca692d4'), 'Chips;Quantity;Price;Cooldrinks;Quantity;Price;Chocolates;Quantity;Price;Pies;Quantity;Price;Fruit;Quantity;Price;Cupcakes;Quantity;Price;Veggies;Quantity;Price;Sweets;Veg;Pizza': 'CONACHOS;;;scweps;;;snacker;;;;;;;;;;;;;;;;;'}\n",
      "{'_id': ObjectId('5e57891d334a951beca692d5'), 'Chips;Quantity;Price;Cooldrinks;Quantity;Price;Chocolates;Quantity;Price;Pies;Quantity;Price;Fruit;Quantity;Price;Cupcakes;Quantity;Price;Veggies;Quantity;Price;Sweets;Veg;Pizza': ';;;;;;;;;;;;;;;;;;;;;Pinpop;Butternut;tripple Decker'}\n",
      "{'_id': ObjectId('5e57891d334a951beca692d6'), 'Chips;Quantity;Price;Cooldrinks;Quantity;Price;Chocolates;Quantity;Price;Pies;Quantity;Price;Fruit;Quantity;Price;Cupcakes;Quantity;Price;Veggies;Quantity;Price;Sweets;Veg;Pizza': ';;;;;;;;;;;;;;;;;;;;;Cardbury;Spinach;Ribs'}\n",
      "{'_id': ObjectId('5e57891d334a951beca692d7'), 'Chips;Quantity;Price;Cooldrinks;Quantity;Price;Chocolates;Quantity;Price;Pies;Quantity;Price;Fruit;Quantity;Price;Cupcakes;Quantity;Price;Veggies;Quantity;Price;Sweets;Veg;Pizza': ';;;;;;;;;;;;;;;;;;;;;Milkit;Garlic;Kasi flavour'}\n",
      "{'_id': ObjectId('5e57891d334a951beca692d8'), 'Chips;Quantity;Price;Cooldrinks;Quantity;Price;Chocolates;Quantity;Price;Pies;Quantity;Price;Fruit;Quantity;Price;Cupcakes;Quantity;Price;Veggies;Quantity;Price;Sweets;Veg;Pizza': ''}\n"
     ]
    }
   ],
   "source": [
    "#Create a Mongo Database and name it Data Tracker.\n",
    "#Add your SPRINT 3 products file to MongoDB you just created\n",
    "import pymongo\n",
    "import json\n",
    "import pandas as pd\n",
    "myclient = pymongo.MongoClient(\"mongodb://localhost:27017/\")\n",
    "\n",
    "mydb = myclient[\"Data_Tracker\"]\n",
    "\n",
    "my = mydb[\"Sprint3\"]\n",
    "for x in my.find():\n",
    "    print(x)"
   ]
  },
  {
   "cell_type": "code",
   "execution_count": 8,
   "metadata": {},
   "outputs": [
    {
     "name": "stdout",
     "output_type": "stream",
     "text": [
      "<pymongo.results.InsertOneResult object at 0x0000021EA7ACB508>\n"
     ]
    }
   ],
   "source": [
    "#Create a collection for your top 3 products in MongoDB.\n",
    "import pymongo\n",
    "\n",
    "myclient = pymongo.MongoClient('mongodb://localhost:27017/')\n",
    "mydb = myclient['Data_Tracker']\n",
    "mycol = mydb[\"Products\"]\n",
    "\n",
    "mydict = { \"Chips\": \"Simba\", \"Cooldrink\": \"Sprite\", \"Chocolate\": \"P.S\" }\n",
    "\n",
    "x = mycol.insert_one(mydict)\n",
    "\n",
    "print(x)"
   ]
  },
  {
   "cell_type": "code",
   "execution_count": 9,
   "metadata": {},
   "outputs": [
    {
     "name": "stdout",
     "output_type": "stream",
     "text": [
      "{'_id': ObjectId('5e5793159f536798156ca42d'), 'Chips': 'Simba', 'Cooldrink': 'Sprite', 'Chocolate': 'P.S'}\n"
     ]
    }
   ],
   "source": [
    "#Find my collection\n",
    "import pymongo\n",
    "\n",
    "myclient = pymongo.MongoClient(\"mongodb://localhost:27017/\")\n",
    "mydb = myclient[\"Data_Tracker\"]\n",
    "mycol = mydb[\"Products\"]\n",
    "\n",
    "x  = mycol.find_one()\n",
    "\n",
    "print(x)"
   ]
  },
  {
   "cell_type": "code",
   "execution_count": 10,
   "metadata": {},
   "outputs": [
    {
     "name": "stdout",
     "output_type": "stream",
     "text": [
      "[ObjectId('5e5796769f536798156ca430'), ObjectId('5e5796769f536798156ca431'), ObjectId('5e5796769f536798156ca432'), ObjectId('5e5796769f536798156ca433'), ObjectId('5e5796769f536798156ca434')]\n"
     ]
    }
   ],
   "source": [
    "#Insert multiple documents into your collections in question (3)\n",
    "import pymongo\n",
    "\n",
    "myclient = pymongo.MongoClient(\"mongodb://localhost:27017/\")\n",
    "mydb = myclient[\"Data_Tracker\"]\n",
    "mycol = mydb[\"Products\"]\n",
    "\n",
    "mylist = [\n",
    "  { \"Chips\": \"Lays\", \"Cooldrink\": \"Coke\", \"Chocolate\": \"Dairy Milk\"},\n",
    "  { \"Chips\": \"Dorritos\", \"Cooldrink\": \"Champs\", \"Chocolate\": \"Bar One\"},\n",
    "  { \"Chips\": \"Nik-Naks\", \"Cooldrink\": \"Twizza\", \"Chocolate\": \"Chomp\"},\n",
    "  { \"Chips\": \"Crack n snack\", \"Cooldrink\": \"Fanta\", \"Chocolate\": \"Lunch Bar\"},\n",
    "  { \"Chips\": \"Stylos\", \"Cooldrink\": \"Stoney\", \"Chocolate\": \"Kit-Kat\"},  \n",
    "]\n",
    "\n",
    "x = mycol.insert_many(mylist)\n",
    "\n",
    "#print list of the _id values of the inserted documents:\n",
    "print(x.inserted_ids) "
   ]
  },
  {
   "cell_type": "code",
   "execution_count": 11,
   "metadata": {},
   "outputs": [
    {
     "name": "stdout",
     "output_type": "stream",
     "text": [
      "{'_id': ObjectId('5e5793159f536798156ca42d'), 'Chips': 'Simba', 'Cooldrink': 'Sprite', 'Chocolate': 'P.S'}\n",
      "{'_id': ObjectId('5e5796769f536798156ca430'), 'Chips': 'Lays', 'Cooldrink': 'Coke', 'Chocolate': 'Dairy Milk'}\n",
      "{'_id': ObjectId('5e5796769f536798156ca431'), 'Chips': 'Dorritos', 'Cooldrink': 'Champs', 'Chocolate': 'Bar One'}\n",
      "{'_id': ObjectId('5e5796769f536798156ca432'), 'Chips': 'Nik-Naks', 'Cooldrink': 'Twizza', 'Chocolate': 'Chomp'}\n",
      "{'_id': ObjectId('5e5796769f536798156ca433'), 'Chips': 'Crack n snack', 'Cooldrink': 'Fanta', 'Chocolate': 'Lunch Bar'}\n",
      "{'_id': ObjectId('5e5796769f536798156ca434'), 'Chips': 'Stylos', 'Cooldrink': 'Stoney', 'Chocolate': 'Kit-Kat'}\n"
     ]
    }
   ],
   "source": [
    "#FIND ALL\n",
    "\n",
    "import pymongo\n",
    "\n",
    "myclient = pymongo.MongoClient(\"mongodb://localhost:27017/\")\n",
    "mydb = myclient[\"Data_Tracker\"]\n",
    "mycol = mydb[\"Products\"]\n",
    "\n",
    "for x in mycol.find():\n",
    "  print(x)"
   ]
  },
  {
   "cell_type": "code",
   "execution_count": 12,
   "metadata": {},
   "outputs": [
    {
     "name": "stdout",
     "output_type": "stream",
     "text": [
      "{'_id': ObjectId('5e5793159f536798156ca42d'), 'Chips': 'Simba', 'Cooldrink': 'Sprite', 'Chocolate': 'P.S'}\n",
      "{'_id': ObjectId('5e5796769f536798156ca430'), 'Chips': 'Lays', 'Cooldrink': 'Coke', 'Chocolate': 'Dairy Milk'}\n",
      "{'_id': ObjectId('5e5796769f536798156ca431'), 'Chips': 'Dorritos', 'Cooldrink': 'Champs', 'Chocolate': 'Bar One'}\n",
      "{'_id': ObjectId('5e5796769f536798156ca432'), 'Chips': 'Nik-Naks', 'Cooldrink': 'Twizza', 'Chocolate': 'Chomp'}\n",
      "{'_id': ObjectId('5e5796769f536798156ca433'), 'Chips': 'Crack n snack', 'Cooldrink': 'Fanta', 'Chocolate': 'Lunch Bar'}\n",
      "{'_id': ObjectId('5e5796769f536798156ca434'), 'Chips': 'Stylos', 'Cooldrink': 'Stoney', 'Chocolate': 'Kit-Kat'}\n"
     ]
    }
   ],
   "source": [
    "#Implement a descending sort to your data in MongoDB.\n",
    "import pymongo\n",
    "\n",
    "myclient = pymongo.MongoClient(\"mongodb://localhost:27017/\")\n",
    "mydb = myclient[\"Data_Tracker\"]\n",
    "mycol = mydb[\"Products\"]\n",
    "\n",
    "mydoc = mycol.find().sort(\"name\", -1)\n",
    "\n",
    "for x in mydoc:\n",
    "  print(x) "
   ]
  },
  {
   "cell_type": "code",
   "execution_count": 14,
   "metadata": {},
   "outputs": [
    {
     "name": "stdout",
     "output_type": "stream",
     "text": [
      "2  documents deleted.\n"
     ]
    }
   ],
   "source": [
    "#Delete 2 brands from your collection of top 3 products.\n",
    "import pymongo\n",
    "\n",
    "myclient = pymongo.MongoClient(\"mongodb://localhost:27017/\")\n",
    "mydb = myclient[\"Data_Tracker\"]\n",
    "mycol = mydb[\"Products\"]\n",
    "\n",
    "myquery = { \"Cooldrink\": {\"$regex\": \"^S\"} }\n",
    "\n",
    "x = mycol.delete_many(myquery)\n",
    "\n",
    "print(x.deleted_count, \" documents deleted.\") "
   ]
  },
  {
   "cell_type": "code",
   "execution_count": 16,
   "metadata": {},
   "outputs": [
    {
     "name": "stdout",
     "output_type": "stream",
     "text": [
      "{'_id': ObjectId('5e5796769f536798156ca430'), 'Chips': 'Flyers', 'Cooldrink': 'Coke', 'Chocolate': 'Dairy Milk'}\n",
      "{'_id': ObjectId('5e5796769f536798156ca431'), 'Chips': 'Dorritos', 'Cooldrink': 'Champs', 'Chocolate': 'Bar One'}\n",
      "{'_id': ObjectId('5e5796769f536798156ca432'), 'Chips': 'Nik-Naks', 'Cooldrink': 'Twizza', 'Chocolate': 'Chomp'}\n",
      "{'_id': ObjectId('5e5796769f536798156ca433'), 'Chips': 'Crack n snack', 'Cooldrink': 'Fanta', 'Chocolate': 'Lunch Bar'}\n"
     ]
    }
   ],
   "source": [
    "#Update 1 product and its brands from your collection you created\n",
    "import pymongo\n",
    "\n",
    "myclient = pymongo.MongoClient(\"mongodb://localhost:27017/\")\n",
    "mydb = myclient[\"Data_Tracker\"]\n",
    "mycol = mydb[\"Products\"]\n",
    "\n",
    "myquery = { \"Chips\": \"Lays\" }\n",
    "newvalues = { \"$set\": { \"Chips\": \"Flyers\" } }\n",
    "\n",
    "mycol.update_one(myquery, newvalues)\n",
    "\n",
    "#print \"customers\" after the update:\n",
    "for x in mycol.find():\n",
    "  print(x) "
   ]
  },
  {
   "cell_type": "code",
   "execution_count": 19,
   "metadata": {},
   "outputs": [
    {
     "name": "stdout",
     "output_type": "stream",
     "text": [
      "{'_id': ObjectId('5e5796769f536798156ca430'), 'Chips': 'Flyers', 'Cooldrink': 'Coke', 'Chocolate': 'Dairy Milk'}\n",
      "{'_id': ObjectId('5e5796769f536798156ca431'), 'Chips': 'Dorritos', 'Cooldrink': 'Champs', 'Chocolate': 'Bar One'}\n",
      "{'_id': ObjectId('5e5796769f536798156ca432'), 'Chips': 'Nik-Naks', 'Cooldrink': 'Twizza', 'Chocolate': 'Chomp'}\n",
      "{'_id': ObjectId('5e5796769f536798156ca433'), 'Chips': 'Crack n snack', 'Cooldrink': 'Fanta', 'Chocolate': 'Lunch Bar'}\n"
     ]
    }
   ],
   "source": [
    "#Track (Search/Filter) for the least 5 brands in your products.\n",
    "import pymongo\n",
    "\n",
    "myclient = pymongo.MongoClient(\"mongodb://localhost:27017/\")\n",
    "mydb = myclient[\"Data_Tracker\"]\n",
    "mycol = mydb[\"Products\"]\n",
    "\n",
    "myquery = { \"Chips\": { \"$gt\": \"C\" } }\n",
    "\n",
    "mydoc = mycol.find(myquery)\n",
    "\n",
    "for x in mydoc:\n",
    "  print(x) "
   ]
  },
  {
   "cell_type": "code",
   "execution_count": null,
   "metadata": {},
   "outputs": [],
   "source": []
  }
 ],
 "metadata": {
  "kernelspec": {
   "display_name": "Python 3",
   "language": "python",
   "name": "python3"
  },
  "language_info": {
   "codemirror_mode": {
    "name": "ipython",
    "version": 3
   },
   "file_extension": ".py",
   "mimetype": "text/x-python",
   "name": "python",
   "nbconvert_exporter": "python",
   "pygments_lexer": "ipython3",
   "version": "3.7.4"
  }
 },
 "nbformat": 4,
 "nbformat_minor": 2
}
