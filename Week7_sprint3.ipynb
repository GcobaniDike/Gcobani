{
 "cells": [
  {
   "cell_type": "code",
   "execution_count": 10,
   "metadata": {},
   "outputs": [],
   "source": [
    "#ADD MORE PRODUCTS\n",
    "import mysql.connector\n",
    "mydb = mysql.connector.connect(\n",
    "  host=\"localhost\",\n",
    "  user=\"root\",\n",
    "  passwd=\"Gcobanidike@25\",\n",
    "  database=\"mydatabase\"\n",
    ") \n",
    "\n",
    "cur=mydb.cursor()\n",
    "s=\"INSERT INTO Data_Valt (Pies,Fruit,Cupcakes) VALUES (%s,%s,%s)\"\n",
    "sql=[\n",
    "    (\"Calamari\",\"Orange\",\"Custard\"),\n",
    "    (\"Solami\",\"Grapes\",\"Choc Mint\"),\n",
    "    (\"Soya\",\"Nartjies\",\"Caramel & choc\"),\n",
    "]\n",
    "cur.executemany(s,sql)\n",
    "mydb.commit()"
   ]
  },
  {
   "cell_type": "code",
   "execution_count": 5,
   "metadata": {},
   "outputs": [],
   "source": [
    "#CREATE COLUMNS\n",
    "import mysql.connector\n",
    "\n",
    "mydb = mysql.connector.connect(\n",
    "  host=\"localhost\",\n",
    "  user=\"root\",\n",
    "  passwd=\"Gcobanidike@25\",\n",
    "  database=\"mydatabase\"\n",
    ")\n",
    "\n",
    "cur = mydb.cursor()\n",
    "\n",
    "cur.execute(\"ALTER TABLE Data_Valt ADD Sweets varchar(255)\")"
   ]
  },
  {
   "cell_type": "code",
   "execution_count": null,
   "metadata": {},
   "outputs": [],
   "source": [
    "#CREATE COLUMNS\n",
    "import mysql.connector\n",
    "\n",
    "mydb = mysql.connector.connect(\n",
    "  host=\"localhost\",\n",
    "  user=\"root\",\n",
    "  passwd=\"Gcobanidike@25\",\n",
    "  database=\"mydatabase\"\n",
    ")\n",
    "\n",
    "cur = mydb.cursor()\n",
    "\n",
    "cur.execute(\"ALTER TABLE Data_Valt ADD Veg varchar(255)\")"
   ]
  },
  {
   "cell_type": "code",
   "execution_count": null,
   "metadata": {},
   "outputs": [],
   "source": [
    "#CREATE COLUMNS\n",
    "import mysql.connector\n",
    "\n",
    "mydb = mysql.connector.connect(\n",
    "  host=\"localhost\",\n",
    "  user=\"root\",\n",
    "  passwd=\"Gcobanidike@25\",\n",
    "  database=\"mydatabase\"\n",
    ")\n",
    "\n",
    "cur = mydb.cursor()\n",
    "\n",
    "cur.execute(\"ALTER TABLE Data_Valt ADD Pizza varchar(255)\")"
   ]
  },
  {
   "cell_type": "code",
   "execution_count": 7,
   "metadata": {},
   "outputs": [],
   "source": [
    "import mysql.connector\n",
    "\n",
    "mydb = mysql.connector.connect(\n",
    "  host=\"localhost\",\n",
    "  user=\"root\",\n",
    "  passwd=\"Gcobanidike@25\",\n",
    "  database=\"mydatabase\"\n",
    ")\n",
    "\n",
    "cur = mydb.cursor()\n",
    "\n",
    "cur.execute(\"SELECT Chips FROM mydatabase.Data_Valt\")"
   ]
  },
  {
   "cell_type": "code",
   "execution_count": 11,
   "metadata": {},
   "outputs": [],
   "source": [
    "import mysql.connector\n",
    "\n",
    "mydb = mysql.connector.connect(\n",
    "  host=\"localhost\",\n",
    "  user=\"root\",\n",
    "  passwd=\"Gcobanidike@25\",\n",
    "  database=\"mydatabase\"\n",
    ")\n",
    "\n",
    "mycursor = mydb.cursor()\n",
    "\n",
    "mycursor.execute(\"CREATE TABLE Chips (Chips VARCHAR(255), Quantity VARCHAR(255), Price VARCHAR(255))\")"
   ]
  },
  {
   "cell_type": "code",
   "execution_count": 4,
   "metadata": {},
   "outputs": [
    {
     "name": "stdout",
     "output_type": "stream",
     "text": [
      "1 record(s) affected\n"
     ]
    }
   ],
   "source": [
    "import mysql.connector\n",
    "\n",
    "mydb = mysql.connector.connect(\n",
    "  host=\"localhost\",\n",
    "  user=\"root\",\n",
    "  passwd=\"Gcobanidike@25\",\n",
    "  database=\"mydatabase\"\n",
    ")\n",
    "\n",
    "mycursor = mydb.cursor()\n",
    "\n",
    "sql = \"UPDATE Data_Valt SET Chips = 'Zimba' WHERE Chips = 'lo'\"\n",
    "\n",
    "mycursor.execute(sql)\n",
    "\n",
    "mydb.commit()\n",
    "\n",
    "print(mycursor.rowcount, \"record(s) affected\")"
   ]
  },
  {
   "cell_type": "code",
   "execution_count": 8,
   "metadata": {},
   "outputs": [
    {
     "name": "stdout",
     "output_type": "stream",
     "text": [
      "1 record(s) deleted\n"
     ]
    }
   ],
   "source": [
    "import mysql.connector\n",
    "\n",
    "mydb = mysql.connector.connect(\n",
    "  host=\"localhost\",\n",
    "  user=\"root\",\n",
    "  passwd=\"Gcobanidike@25\",\n",
    "  database=\"mydatabase\"\n",
    ")\n",
    "\n",
    "mycursor = mydb.cursor()\n",
    "sql = \"DELETE FROM Data_Valt WHERE Chips = 'sd'\"\n",
    "\n",
    "mycursor.execute(sql)\n",
    "\n",
    "mydb.commit()\n",
    "\n",
    "print(mycursor.rowcount, \"record(s) deleted\")"
   ]
  },
  {
   "cell_type": "code",
   "execution_count": 9,
   "metadata": {},
   "outputs": [],
   "source": [
    "import mysql.connector\n",
    "\n",
    "mydb = mysql.connector.connect(\n",
    "  host=\"localhost\",\n",
    "  user=\"root\",\n",
    "  passwd=\"Gcobanidike@25\",\n",
    "  database=\"mydatabase\"\n",
    ")\n",
    "\n",
    "cur=mydb.cursor()\n",
    "s=\"INSERT INTO Data_Valt (Sweets,Veg,Pizza) VALUES (%s,%s,%s)\"\n",
    "sql=[\n",
    "    (\"Pinpop\",\"Butternut\",\"tripple Decker\"),\n",
    "    (\"Cardbury\",\"Spinach\",\"Ribs\"),\n",
    "    (\"Milkit\",\"Garlic\",\"Kasi flavour\"),\n",
    "]\n",
    "cur.executemany(s,sql)\n",
    "mydb.commit()"
   ]
  },
  {
   "cell_type": "code",
   "execution_count": null,
   "metadata": {},
   "outputs": [],
   "source": []
  }
 ],
 "metadata": {
  "kernelspec": {
   "display_name": "Python 3",
   "language": "python",
   "name": "python3"
  }
 },
 "nbformat": 4,
 "nbformat_minor": 2
}
